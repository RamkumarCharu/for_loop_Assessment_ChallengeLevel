{
 "cells": [
  {
   "attachments": {},
   "cell_type": "markdown",
   "metadata": {},
   "source": [
    "                For Loop Assignment - #Challenge Level:"
   ]
  },
  {
   "cell_type": "code",
   "execution_count": 1,
   "metadata": {},
   "outputs": [
    {
     "name": "stdout",
     "output_type": "stream",
     "text": [
      "Following are the prime numbers smaller than or equal to 100\n",
      "[2, 3, 5, 7, 11, 13, 17, 19, 23, 29, 31, 37, 41, 43, 47, 53, 59, 61, 67, 71, 73, 79, 83, 89, 97]\n"
     ]
    }
   ],
   "source": [
    "#31. Write a program to generate a list of prime numbers using the Sieve of Eratosthenes algorithm and list\n",
    "#comprehension.\n",
    "\n",
    "import math\n",
    "\n",
    "def sieveofEratosthenes(n):\n",
    "    p=2\n",
    "    while (p * p <= n+1):\n",
    "        temp = [s for s in range(p * p, n+1, p)]\n",
    "        for i in range(p * p, n+1, p):\n",
    "            if i in lst:\n",
    "                lst.remove(i)\n",
    "        p +=1\n",
    "\n",
    "try:\n",
    "    n = int(input(\"enter a number for which you need to find Prime Numbers : \"))\n",
    "    lst = [x for x in range(2,n+1) ]\n",
    "    print(\"Following are the prime numbers smaller than or equal to\", n),\n",
    "    sieveofEratosthenes(n)\n",
    "    print(lst)\n",
    "except ValueError as ve:\n",
    "    print(\"Enter valid integer...!\")"
   ]
  },
  {
   "cell_type": "code",
   "execution_count": 8,
   "metadata": {},
   "outputs": [
    {
     "name": "stdout",
     "output_type": "stream",
     "text": [
      "Following are the Pythagorean triplets up to 50\n",
      "[(3, 4, 5), (5, 12, 13), (6, 8, 10), (7, 24, 25), (8, 15, 17), (9, 12, 15), (9, 40, 41), (10, 24, 26), (12, 16, 20), (12, 35, 37), (14, 48, 50), (15, 20, 25), (15, 36, 39), (16, 30, 34), (18, 24, 30), (20, 21, 29), (21, 28, 35), (24, 32, 40), (27, 36, 45), (30, 40, 50)]\n"
     ]
    }
   ],
   "source": [
    "#32. Create a program that generates a list of all Pythagorean triplets up to a specified limit using list\n",
    "#comprehension.\n",
    "def pythagoreantriplets(n):\n",
    "    for a in range(1, n + 1):\n",
    "        for b in range(a, n + 1):\n",
    "            for c in range(b, n + 1):\n",
    "                if a**2 + b**2 == c**2:\n",
    "                    print(f\"Pythagorean triple: ({a}, {b}, {c})\")\n",
    "def findtriplets(k):\n",
    "    triples = [(a, b, c) for a in range(1, k + 1) for b in range(a, k + 1) for c in range(b, k + 1) if a**2 + b**2 == c**2]\n",
    "    print(triples)\n",
    "try:\n",
    "    n = int(input(\"enter a number for which you need to find Pythagorean triplets : \"))\n",
    "    print(\"Following are the Pythagorean triplets up to\", n),\n",
    "    findtriplets(n)\n",
    "except ValueError as ve:\n",
    "    print(\"Enter valid integer...!\")\n"
   ]
  },
  {
   "cell_type": "code",
   "execution_count": 30,
   "metadata": {},
   "outputs": [
    {
     "name": "stdout",
     "output_type": "stream",
     "text": [
      "[[1, 'a'], [1, 'b'], [1, 'c'], [2, 'a'], [2, 'b'], [2, 'c'], [3, 'a'], [3, 'b'], [3, 'c']]\n"
     ]
    }
   ],
   "source": [
    "#33. Develop a program that generates a list of all possible combinations of two lists using list comprehension.\n",
    "list1 = [1, 2, 3]\n",
    "list2 = ['a', 'b', 'c']\n",
    "\n",
    "combinations = [[x, y] for x in list1 for y in list2]\n",
    "\n",
    "print(combinations)"
   ]
  },
  {
   "cell_type": "code",
   "execution_count": 50,
   "metadata": {},
   "outputs": [
    {
     "name": "stdout",
     "output_type": "stream",
     "text": [
      "Mean: 5.090909090909091\n",
      "Median without using List Comprension: 5\n",
      "Median with using List Comprension: 5\n",
      "Mode using List Comprension: [5, 6]\n",
      "Mode using List Comprension1: 5\n"
     ]
    }
   ],
   "source": [
    "#34. Write a program that calculates the mean, median, and mode of a list of numbers using list comprehension.\n",
    "\n",
    "from statistics import median\n",
    "from collections import Counter\n",
    "list1 = [1, 2, 3, 4, 5, 5, 6, 6, 7, 8, 9]\n",
    "\n",
    "mean = sum(list1) / len(list1)\n",
    "\n",
    "\n",
    "sorted_numbers = sorted(list1)\n",
    "#median using List Comprension\n",
    "m1 = [sorted_numbers[len(sorted_numbers)//2]  if len(sorted_numbers)%2==1 else sorted_numbers[len(sorted_numbers) // 2 - 1] +sorted_numbers[len(sorted_numbers) // 2] ]\n",
    "\n",
    "#median not using list comprension\n",
    "if len(sorted_numbers) % 2 == 1:\n",
    "    median_value = sorted_numbers[len(sorted_numbers) // 2]\n",
    "else:\n",
    "    middle1 = sorted_numbers[len(sorted_numbers) // 2 - 1]\n",
    "    middle2 = sorted_numbers[len(sorted_numbers) // 2]\n",
    "    median_value = (middle1 + middle2) / 2\n",
    "\n",
    "counts = Counter(list1)\n",
    "mode = [key for key, value in counts.items() if value == max(counts.values())]\n",
    "\n",
    "print(f\"Mean: {mean}\")\n",
    "print(f\"Median without using List Comprension: {median_value}\")\n",
    "print(f\"Median with using List Comprension: {m1[0]}\")\n",
    "print(f\"Mode using List Comprension: {mode}\")\n",
    "print(f'Mode using List Comprension1: {max(set(list1), key=list1.count)}')\n"
   ]
  },
  {
   "cell_type": "code",
   "execution_count": 59,
   "metadata": {},
   "outputs": [
    {
     "name": "stdout",
     "output_type": "stream",
     "text": [
      "       1       \n",
      "      1 1      \n",
      "     1 2 1     \n",
      "    1 3 3 1    \n",
      "   1 4 6 4 1   \n"
     ]
    }
   ],
   "source": [
    "#35. Create a program that generates Pascal's triangle up to a specified number of rows using list comprehension.\n",
    "def generate_pascals_triangle(num_rows):\n",
    "    triangle = []\n",
    "    for i in range(num_rows):\n",
    "        row = [1]  \n",
    "        if triangle:\n",
    "            last_row = triangle[-1]\n",
    "            row.extend([last_row[j] + last_row[j + 1] for j in range(len(last_row) - 1)])\n",
    "            row.append(1)  \n",
    "        triangle.append(row)\n",
    "    return triangle\n",
    "\n",
    "def print_pascals_triangle(triangle):\n",
    "    for row in triangle:\n",
    "        print(' '.join(map(str, row)).center(len(triangle[-1]) * 3))\n",
    "\n",
    "try:\n",
    "    num_rows = int(input(\"enter a number until which you need to crate Pascal's triangle : \"))\n",
    "    triangle = generate_pascals_triangle(num_rows)\n",
    "    print_pascals_triangle(triangle)\n",
    "except ValueError as ve:\n",
    "    print(\"Enter valid integer...!\")"
   ]
  },
  {
   "cell_type": "code",
   "execution_count": 140,
   "metadata": {},
   "outputs": [
    {
     "name": "stdout",
     "output_type": "stream",
     "text": [
      "factorial from 1 to 5 with  list comprension \n",
      "[1, 2, 6, 24, 120]\n",
      "factorial from 1 to 5 with out list comprension \n",
      "[1, 2, 6, 24, 120]\n"
     ]
    }
   ],
   "source": [
    "#36. Develop a program that calculates the sum of the digits of a factorial of numbers from 1 to 5 using list comprehension.\n",
    "\n",
    "\n",
    "n=5\n",
    "l=[];  \n",
    "l=[l[-1] for x in range(1,n+1) if not l.append(x*l[-1] if l else 1)]\n",
    "print('factorial from 1 to 5 with  list comprension ')\n",
    "print(l)\n",
    "    \n",
    "\n",
    "l1=[]\n",
    "f=1\n",
    "for x in range(1,6):\n",
    "    f=f*x\n",
    "    l1.append(f)\n",
    "print('factorial from 1 to 5 with out list comprension ' )\n",
    "print(l1)"
   ]
  },
  {
   "cell_type": "code",
   "execution_count": 289,
   "metadata": {},
   "outputs": [
    {
     "name": "stdout",
     "output_type": "stream",
     "text": [
      "big word in the sent without list comprension1 is : eighteen\n",
      "big word in the sent without list comprension2 is : eighteen\n",
      "big word in the sent without list comprension3 is : eighteen\n",
      "xxxx\n",
      "big word in the sent with list comprension is : eighteen\n"
     ]
    }
   ],
   "source": [
    "#37. Write a program that finds the longest word in a sentence using list comprehension.\n",
    "\n",
    "try:\n",
    "    \n",
    "    #inp = str(input('enter your sentence..! : '))\n",
    "    inp='one three two four five eighteen to fiver'\n",
    "    words = inp.split(' ')\n",
    "    k=[]\n",
    "    for x in words:\n",
    "        if k:\n",
    "            if len(x)>len(k[-1]):\n",
    "                k.clear()\n",
    "                k.append(x)\n",
    "        else:\n",
    "            k.clear()\n",
    "            k.append(x)\n",
    "    print(f'big word in the sent without list comprension1 is : {k[0]}')\n",
    "\n",
    "    big_word=''\n",
    "    big_words = []\n",
    "    for x in words:\n",
    "        if k:\n",
    "            if len(x)>len(big_word):\n",
    "                big_word=x\n",
    "                \n",
    "    print(f'big word in the sent without list comprension2 is : {big_word}')\n",
    "\n",
    "    \n",
    "\n",
    "    n=5\n",
    "    l=[];  \n",
    "    l=[l[-1] for x in range(1,n+1) if not l.append(x*l[-1] if l else 1)]\n",
    "    s=[]\n",
    "    for x in words:\n",
    "        if not s:\n",
    "            s.append(x)\n",
    "        else :\n",
    "            if len(x)>len(s[-1]):\n",
    "                s.append(x)\n",
    "    print(f'big word in the sent without list comprension3 is : {big_word}')\n",
    "\n",
    "    s=[]\n",
    "    big_word=''\n",
    "    s=['a']\n",
    "    s=[s[-1] for x in words  if  not s.append(x if len(x)>len(s[-1]) else s[-1])  ]\n",
    "    \n",
    "    print(f'big word in the sent with list comprension is : {s[-1]}')\n",
    "    \n",
    "    \n",
    "except Exception as e:\n",
    "    print('something wrong with input..!')\n",
    "    print(e)\n",
    "\n"
   ]
  },
  {
   "cell_type": "code",
   "execution_count": 298,
   "metadata": {},
   "outputs": [
    {
     "name": "stdout",
     "output_type": "stream",
     "text": [
      " words with more than 3 vowels are without List Comprension : ['motheri', 'sistere']\n",
      " words with more than 3 vowels are with List Comprension : ['motheri', 'sistere']\n"
     ]
    }
   ],
   "source": [
    "#38. Create a program that filters a list of strings to include only those with more than three vowels using list comprehension.\n",
    "\n",
    "l1 = ['father', 'motheri' ,'sistere', 'brother']\n",
    "vowels = 'aeiou'\n",
    "words_with_3_vows = []\n",
    "for data in l1:\n",
    "    count=0\n",
    "    for v in vowels:\n",
    "        count +=data.lower().count(v)\n",
    "        \n",
    "    if count>=3:\n",
    "        words_with_3_vows.append(data)\n",
    "print(f' words with more than 3 vowels are without List Comprension : {words_with_3_vows}')\n",
    "\n",
    "data=[data for data in l1  if sum([1 for char in data if char.lower() in vowels]) >=3]\n",
    "print(f' words with more than 3 vowels are with List Comprension : {data}')"
   ]
  },
  {
   "cell_type": "code",
   "execution_count": 93,
   "metadata": {},
   "outputs": [
    {
     "name": "stdout",
     "output_type": "stream",
     "text": [
      "sum of digits of numbers without List comprension : 500500\n",
      "sum of digits of numbers with List comprension : 500500\n"
     ]
    }
   ],
   "source": [
    "#39. Develop a program that calculates the sum of the digits of numbers from 1 to 1000 using list comprehension.\n",
    "sum=0\n",
    "for i in range(1,1001):\n",
    "    sum = sum+i\n",
    "print('sum of digits of numbers without List comprension : ' + str(sum))\n",
    "\n",
    "total = 0\n",
    "[total := total + x for x in [int(a) for a in range(1,1001)]]\n",
    "print('sum of digits of numbers with List comprension : ' + str(total))\n"
   ]
  },
  {
   "cell_type": "code",
   "execution_count": 100,
   "metadata": {},
   "outputs": [
    {
     "name": "stdout",
     "output_type": "stream",
     "text": [
      "Palindromes from 1 to 15: [2, 3, 5, 7, 11]\n"
     ]
    }
   ],
   "source": [
    "#40. Write a program that generates a list of prime palindromic numbers using list comprehension. \n",
    "def is_prime(num):\n",
    "    if num <= 1:\n",
    "        return False\n",
    "    if num == 2:\n",
    "        return True\n",
    "    if num % 2 == 0:\n",
    "        return False\n",
    "    for i in range(3, int(num**0.5) + 1, 2):\n",
    "        if num % i == 0:\n",
    "            return False\n",
    "    return True\n",
    "\n",
    "palindromes = [num for num in range(1, 16) if str(num) == str(num)[::-1] and is_prime(num)]\n",
    "\n",
    "print(\"Palindromes from 1 to 15:\", palindromes)"
   ]
  },
  {
   "cell_type": "code",
   "execution_count": 116,
   "metadata": {},
   "outputs": [
    {
     "name": "stdout",
     "output_type": "stream",
     "text": [
      "Prime palindromic numbers up to 1000: [2, 3, 5, 7, 11, 101, 131, 151, 181, 191, 313, 353, 373, 383, 727, 757, 787, 797, 919, 929]\n"
     ]
    }
   ],
   "source": [
    "def is_prime(num):\n",
    "    if num <= 1:\n",
    "        return False\n",
    "    if num == 2:\n",
    "        return True\n",
    "    if num % 2 == 0:\n",
    "        return False\n",
    "    #for i in range(3, int(num**0.5) + 1, 2):\n",
    "    #    if num % i == 0:\n",
    "    #        return False\n",
    "    for i in range(3,num):\n",
    "        if num % i ==0:\n",
    "            return False\n",
    "    return True\n",
    "\n",
    "# Generate prime palindromic numbers using list comprehension\n",
    "prime_palindromes = [num for num in range(1, 1000) if str(num) == str(num)[::-1] and is_prime(num)]\n",
    "\n",
    "print(\"Prime palindromic numbers up to 1000:\", prime_palindromes)"
   ]
  }
 ],
 "metadata": {
  "kernelspec": {
   "display_name": "mycondaenv",
   "language": "python",
   "name": "python3"
  },
  "language_info": {
   "codemirror_mode": {
    "name": "ipython",
    "version": 3
   },
   "file_extension": ".py",
   "mimetype": "text/x-python",
   "name": "python",
   "nbconvert_exporter": "python",
   "pygments_lexer": "ipython3",
   "version": "3.10.12"
  },
  "orig_nbformat": 4,
  "vscode": {
   "interpreter": {
    "hash": "88933ef7c440b19f2662abe4de92230cd20e999d219e468ad8636b776314f54a"
   }
  }
 },
 "nbformat": 4,
 "nbformat_minor": 2
}
